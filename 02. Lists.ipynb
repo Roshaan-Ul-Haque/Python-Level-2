{
 "cells": [
  {
   "cell_type": "code",
   "execution_count": 1,
   "metadata": {},
   "outputs": [
    {
     "name": "stdout",
     "output_type": "stream",
     "text": [
      "['Samsung', 'Nokia', 'Iphone']\n",
      "['Samsung', 'Nokia', 'Iphone']\n"
     ]
    }
   ],
   "source": [
    "#Two methods for list(can be changed)\n",
    "#1\n",
    "list_mobile=['Samsung', 'Nokia', 'Iphone']\n",
    "print(list_mobile)\n",
    "#2#\n",
    "list_mobile=('Samsung', 'Nokia', 'Iphone')\n",
    "list_mobile=list(list_mobile)\n",
    "print(list_mobile)"
   ]
  },
  {
   "cell_type": "code",
   "execution_count": 2,
   "metadata": {},
   "outputs": [
    {
     "name": "stdout",
     "output_type": "stream",
     "text": [
      "[[1, 2, 3], ['a', 'b', 'c'], ['a', 1, 'Python', 5]]\n"
     ]
    }
   ],
   "source": [
    "#Nested list\n",
    "my_list= [1, 2, 3]\n",
    "my_list2 = [\"a\", \"b\", \"c\"]\n",
    "my_list3 = [\"a\", 1, \"Python\", 5]\n",
    "my_nested_list= [my_list, my_list2, my_list3]\n",
    "print(my_nested_list)"
   ]
  },
  {
   "cell_type": "code",
   "execution_count": 3,
   "metadata": {},
   "outputs": [
    {
     "data": {
      "text/plain": [
       "[4, 5]"
      ]
     },
     "execution_count": 3,
     "metadata": {},
     "output_type": "execute_result"
    }
   ],
   "source": [
    "#List Extend\n",
    "combo_list= []\n",
    "one_list= [4, 5]\n",
    "combo_list.extend(one_list)\n",
    "combo_list"
   ]
  },
  {
   "cell_type": "code",
   "execution_count": 4,
   "metadata": {},
   "outputs": [
    {
     "data": {
      "text/plain": [
       "[1, 2, 3, 'a', 'b', 'c']"
      ]
     },
     "execution_count": 4,
     "metadata": {},
     "output_type": "execute_result"
    }
   ],
   "source": [
    "#Add two lists\n",
    "my_list= [1, 2, 3]\n",
    "my_list2 = [\"a\", \"b\", \"c\"]\n",
    "combo_list= my_list+ my_list2\n",
    "combo_list"
   ]
  },
  {
   "cell_type": "code",
   "execution_count": 5,
   "metadata": {},
   "outputs": [
    {
     "data": {
      "text/plain": [
       "[0, 1, 4, 5, 6, 7, 9]"
      ]
     },
     "execution_count": 5,
     "metadata": {},
     "output_type": "execute_result"
    }
   ],
   "source": [
    "#Sorting\n",
    "numbers=[4,7,5,6,9,0,1]\n",
    "numbers.sort()\n",
    "numbers"
   ]
  },
  {
   "cell_type": "code",
   "execution_count": 6,
   "metadata": {},
   "outputs": [
    {
     "name": "stdout",
     "output_type": "stream",
     "text": [
      "None\n"
     ]
    }
   ],
   "source": [
    "#we want to sort something, just remember that we sort them in-place and we cannot assign it to a different variable.\n",
    "numbers=[4,7,5,6,9,0,1]\n",
    "number_1=numbers.sort()\n",
    "print(number_1)"
   ]
  },
  {
   "cell_type": "code",
   "execution_count": 7,
   "metadata": {},
   "outputs": [
    {
     "name": "stdout",
     "output_type": "stream",
     "text": [
      "None\n"
     ]
    }
   ],
   "source": [
    "alpha_list= [34, 23, 67, 100, 88, 2]\n",
    "sorted_list= alpha_list.sort()\n",
    "sorted_list\n",
    "print(sorted_list)"
   ]
  },
  {
   "cell_type": "code",
   "execution_count": 8,
   "metadata": {},
   "outputs": [
    {
     "data": {
      "text/plain": [
       "[34, 23, 67]"
      ]
     },
     "execution_count": 8,
     "metadata": {},
     "output_type": "execute_result"
    }
   ],
   "source": [
    "#Slicing a list\n",
    "alpha_list= [34, 23, 67, 100, 88, 2]\n",
    "alpha_list[0:3]"
   ]
  }
 ],
 "metadata": {
  "kernelspec": {
   "display_name": "Python 3",
   "language": "python",
   "name": "python3"
  },
  "language_info": {
   "codemirror_mode": {
    "name": "ipython",
    "version": 3
   },
   "file_extension": ".py",
   "mimetype": "text/x-python",
   "name": "python",
   "nbconvert_exporter": "python",
   "pygments_lexer": "ipython3",
   "version": "3.7.6"
  }
 },
 "nbformat": 4,
 "nbformat_minor": 4
}
