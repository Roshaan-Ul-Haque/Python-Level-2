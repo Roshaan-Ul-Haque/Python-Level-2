{
 "cells": [
  {
   "cell_type": "code",
   "execution_count": 1,
   "metadata": {},
   "outputs": [
    {
     "name": "stdout",
     "output_type": "stream",
     "text": [
      "This is true\n"
     ]
    }
   ],
   "source": [
    "if 10 < 100:\n",
    "    print(\"This is true\")"
   ]
  },
  {
   "cell_type": "code",
   "execution_count": 2,
   "metadata": {},
   "outputs": [
    {
     "name": "stdout",
     "output_type": "stream",
     "text": [
      "Faizan is elder than Ali\n"
     ]
    }
   ],
   "source": [
    "Ali = 10\n",
    "Faizan = 20\n",
    "if Ali > Faizan:\n",
    "    print(\"Ali is elder than Faizan\")\n",
    "else:\n",
    "    print(\"Faizan is elder than Ali\")"
   ]
  },
  {
   "cell_type": "code",
   "execution_count": 3,
   "metadata": {},
   "outputs": [
    {
     "name": "stdout",
     "output_type": "stream",
     "text": [
      "Ali and Faizan are equal\n"
     ]
    }
   ],
   "source": [
    "Ali = 10\n",
    "Faizan = 10\n",
    "if Ali > Faizan:\n",
    "    print(\"Ali is elder than Faizan\")\n",
    "elif Ali == Faizan:\n",
    "    print(\"Ali and Faizan are equal\")\n",
    "else:\n",
    "    print(\"Faizan is elder than Ali\")"
   ]
  },
  {
   "cell_type": "code",
   "execution_count": 4,
   "metadata": {},
   "outputs": [
    {
     "name": "stdout",
     "output_type": "stream",
     "text": [
      "This statement was True!\n"
     ]
    }
   ],
   "source": [
    "x = 10\n",
    "y = 20\n",
    "if x < 10 or y > 15:\n",
    "    print(\"This statement was True!\")"
   ]
  },
  {
   "cell_type": "code",
   "execution_count": 5,
   "metadata": {},
   "outputs": [
    {
     "name": "stdout",
     "output_type": "stream",
     "text": [
      "The statement was False!\n"
     ]
    }
   ],
   "source": [
    "x = 10\n",
    "y = 10\n",
    "if x == 10 and y == 15:\n",
    "    print(\"This statement was True\")\n",
    "else:\n",
    "    print(\"The statement was False!\")"
   ]
  },
  {
   "cell_type": "code",
   "execution_count": 6,
   "metadata": {},
   "outputs": [
    {
     "name": "stdout",
     "output_type": "stream",
     "text": [
      "x is my number\n"
     ]
    }
   ],
   "source": [
    "numbers = [1, 2, 3, 4, 5]\n",
    "x = 4\n",
    "if x not in numbers:\n",
    "    print(\"x is not my number\")\n",
    "else:\n",
    "    print(\"x is my number\")"
   ]
  },
  {
   "cell_type": "code",
   "execution_count": 7,
   "metadata": {},
   "outputs": [
    {
     "name": "stdout",
     "output_type": "stream",
     "text": [
      "x is not equal to 11!\n"
     ]
    }
   ],
   "source": [
    "x = 10\n",
    "if x != 11:\n",
    "    print(\"x is not equal to 11!\")"
   ]
  },
  {
   "cell_type": "code",
   "execution_count": 8,
   "metadata": {},
   "outputs": [
    {
     "name": "stdout",
     "output_type": "stream",
     "text": [
      "This is True!\n"
     ]
    }
   ],
   "source": [
    "my_list= [1, 2, 3, 4]\n",
    "x = 10\n",
    "z = 11\n",
    "if x not in my_list and z != 10:\n",
    "    print(\"This is True!\")"
   ]
  },
  {
   "cell_type": "code",
   "execution_count": 9,
   "metadata": {},
   "outputs": [
    {
     "name": "stdout",
     "output_type": "stream",
     "text": [
      "It's an empty list!\n",
      "It's not an empty tuple!\n",
      "This is an empty string!\n",
      "Then it's nothing!\n"
     ]
    }
   ],
   "source": [
    "#None#\n",
    "empty_list= []\n",
    "empty_tuple= ()\n",
    "empty_string= \"\"\n",
    "nothing = None\n",
    "if empty_list == []:\n",
    "    print(\"It's an empty list!\")\n",
    "    \n",
    "if empty_tuple == ():\n",
    "    print(\"It's not an empty tuple!\")\n",
    "    \n",
    "if not empty_string:\n",
    "    print(\"This is an empty string!\")\n",
    "    \n",
    "if not nothing:\n",
    "    print(\"Then it's nothing!\")"
   ]
  },
  {
   "cell_type": "code",
   "execution_count": 10,
   "metadata": {},
   "outputs": [],
   "source": [
    "empty_string = \"something\"\n",
    "if empty_string == \"\":\n",
    "    print(\"This is an empty string!\")"
   ]
  },
  {
   "cell_type": "code",
   "execution_count": 11,
   "metadata": {},
   "outputs": [
    {
     "name": "stdout",
     "output_type": "stream",
     "text": [
      "I have a \n",
      " new line in the middle\n"
     ]
    }
   ],
   "source": [
    "#n for new line#\n",
    "print(\"I have a \\n new line in the middle\")"
   ]
  },
  {
   "cell_type": "code",
   "execution_count": 12,
   "metadata": {},
   "outputs": [
    {
     "name": "stdout",
     "output_type": "stream",
     "text": [
      "This sentence is \ttabbed!\n"
     ]
    }
   ],
   "source": [
    "#t for space#\n",
    "print(\"This sentence is \\ttabbed!\")"
   ]
  },
  {
   "cell_type": "code",
   "execution_count": 13,
   "metadata": {},
   "outputs": [
    {
     "name": "stdout",
     "output_type": "stream",
     "text": [
      "This is a backslash \\\n"
     ]
    }
   ],
   "source": [
    "print(\"This is a backslash \\\\\")"
   ]
  }
 ],
 "metadata": {
  "kernelspec": {
   "display_name": "Python 3",
   "language": "python",
   "name": "python3"
  },
  "language_info": {
   "codemirror_mode": {
    "name": "ipython",
    "version": 3
   },
   "file_extension": ".py",
   "mimetype": "text/x-python",
   "name": "python",
   "nbconvert_exporter": "python",
   "pygments_lexer": "ipython3",
   "version": "3.7.6"
  }
 },
 "nbformat": 4,
 "nbformat_minor": 4
}
