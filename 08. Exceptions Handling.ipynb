{
 "cells": [
  {
   "cell_type": "code",
   "execution_count": 1,
   "metadata": {},
   "outputs": [
    {
     "name": "stdout",
     "output_type": "stream",
     "text": [
      "It's not possible\n"
     ]
    }
   ],
   "source": [
    "#Exceptions Handling\n",
    "try:\n",
    "    1/0\n",
    "except ZeroDivisionError:\n",
    "    print(\"It's not possible\")"
   ]
  },
  {
   "cell_type": "code",
   "execution_count": 2,
   "metadata": {},
   "outputs": [
    {
     "name": "stdout",
     "output_type": "stream",
     "text": [
      "This doesn't exist\n"
     ]
    }
   ],
   "source": [
    "coins = {\"Ali\":10, \"Usman\":20, \"Razzaq\":50}\n",
    "try:\n",
    "    value = coins[\"Omer\"]\n",
    "except KeyError:\n",
    "    print(\"This doesn't exist\")"
   ]
  },
  {
   "cell_type": "code",
   "execution_count": 3,
   "metadata": {},
   "outputs": [
    {
     "name": "stdout",
     "output_type": "stream",
     "text": [
      "That index is not in the list!\n"
     ]
    }
   ],
   "source": [
    "my_list = [1, 2, 3, 4, 5] \n",
    "try: \n",
    "    my_list[5] \n",
    "except IndexError: \n",
    "    print(\"That index is not in the list!\")"
   ]
  },
  {
   "cell_type": "code",
   "execution_count": 4,
   "metadata": {},
   "outputs": [
    {
     "name": "stdout",
     "output_type": "stream",
     "text": [
      "This index does not exist!\n"
     ]
    }
   ],
   "source": [
    "coins = {\"Ali\":10, \"Usman\":20, \"Razzaq\":50}\n",
    "numbers = [1, 2, 3, 4, 5] \n",
    "try:\n",
    "    numbers[5]\n",
    "    value = coins[\"Omer\"]\n",
    "except IndexError: \n",
    "    print(\"This index does not exist!\") \n",
    "except KeyError: \n",
    "    print(\"This key is not in the dictionary!\") \n",
    "except: \n",
    "    print(\"Some other error occurred!\")"
   ]
  },
  {
   "cell_type": "code",
   "execution_count": 5,
   "metadata": {},
   "outputs": [
    {
     "name": "stdout",
     "output_type": "stream",
     "text": [
      "This key is not in the dictionary!\n"
     ]
    }
   ],
   "source": [
    "coins = {\"Ali\":10, \"Usman\":20, \"Razzaq\":50}\n",
    "try:\n",
    "    value = coins[\"Omer\"]\n",
    "except IndexError: \n",
    "    print(\"This index does not exist!\") \n",
    "except KeyError: \n",
    "    print(\"This key is not in the dictionary!\") \n",
    "except: \n",
    "    print(\"Some other error occurred!\")"
   ]
  },
  {
   "cell_type": "code",
   "execution_count": 6,
   "metadata": {},
   "outputs": [
    {
     "name": "stdout",
     "output_type": "stream",
     "text": [
      "An IndexError or KeyError occurred!\n"
     ]
    }
   ],
   "source": [
    "coins = {\"Ali\":10, \"Usman\":20, \"Razzaq\":50}\n",
    "numbers = [1, 2, 3, 4, 5] \n",
    "try:\n",
    "    numbers[5]\n",
    "    value = coins[\"Omer\"]\n",
    "except (IndexError, KeyError): \n",
    "    print(\"An IndexError or KeyError occurred!\")"
   ]
  },
  {
   "cell_type": "code",
   "execution_count": 7,
   "metadata": {},
   "outputs": [
    {
     "name": "stdout",
     "output_type": "stream",
     "text": [
      "This doesn't exist\n",
      "The statement is finally executed\n"
     ]
    }
   ],
   "source": [
    "coins = {\"Ali\":10, \"Usman\":20, \"Razzaq\":50}\n",
    "try:\n",
    "    value = coins[\"Omer\"]\n",
    "except KeyError:\n",
    "    print(\"This doesn't exist\")\n",
    "finally:\n",
    "    print(\"The statement is finally executed\")"
   ]
  },
  {
   "cell_type": "code",
   "execution_count": 8,
   "metadata": {},
   "outputs": [
    {
     "name": "stdout",
     "output_type": "stream",
     "text": [
      "The statement is correct\n"
     ]
    }
   ],
   "source": [
    "coins = {\"Ali\":10, \"Usman\":20, \"Razzaq\":50}\n",
    "try:\n",
    "    value = coins[\"Ali\"]\n",
    "except KeyError:\n",
    "    print(\"This doesn't exist\")\n",
    "else:\n",
    "    print(\"The statement is correct\")"
   ]
  },
  {
   "cell_type": "code",
   "execution_count": 9,
   "metadata": {},
   "outputs": [
    {
     "name": "stdout",
     "output_type": "stream",
     "text": [
      "This doesn't exist\n",
      "The statement is finally executed\n"
     ]
    }
   ],
   "source": [
    "coins = {\"Ali\":10, \"Usman\":20, \"Razzaq\":50}\n",
    "try:\n",
    "    value = coins[\"Omer\"]\n",
    "except KeyError:\n",
    "    print(\"This doesn't exist\")\n",
    "else:\n",
    "    print(\"The statement is correct\")\n",
    "finally:\n",
    "    print(\"The statement is finally executed\")"
   ]
  }
 ],
 "metadata": {
  "kernelspec": {
   "display_name": "Python 3",
   "language": "python",
   "name": "python3"
  },
  "language_info": {
   "codemirror_mode": {
    "name": "ipython",
    "version": 3
   },
   "file_extension": ".py",
   "mimetype": "text/x-python",
   "name": "python",
   "nbconvert_exporter": "python",
   "pygments_lexer": "ipython3",
   "version": "3.7.6"
  }
 },
 "nbformat": 4,
 "nbformat_minor": 4
}
