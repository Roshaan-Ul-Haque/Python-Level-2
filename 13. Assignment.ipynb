{
 "cells": [
  {
   "cell_type": "markdown",
   "metadata": {},
   "source": [
    "# Question:-\n",
    "Create a program which ask for your age, name and then print your name and age along with saying that you will be 100 years old in what year.\n",
    "\n",
    "Hints:\n",
    "\n",
    "name =\n",
    "\n",
    "age =\n",
    "\n",
    "year =\n",
    "\n",
    "print(name + ” will be 100 years old in the year ” + year)\n",
    "\n",
    "use the above code snippet as some hints and attempt to write a basic code.\n"
   ]
  },
  {
   "cell_type": "code",
   "execution_count": 1,
   "metadata": {},
   "outputs": [
    {
     "name": "stdout",
     "output_type": "stream",
     "text": [
      "Enter your name:- Ali\n",
      "Enter your age:- 25\n",
      "Ali will be 100 years old in the year 2094\n"
     ]
    }
   ],
   "source": [
    "name = input(\"Enter your name:- \")\n",
    "age = int(input(\"Enter your age:- \"))\n",
    "year = str((2020 - age) + 100 -1)\n",
    "print(name + \" will be 100 years old in the year \" + year)"
   ]
  }
 ],
 "metadata": {
  "kernelspec": {
   "display_name": "Python 3",
   "language": "python",
   "name": "python3"
  },
  "language_info": {
   "codemirror_mode": {
    "name": "ipython",
    "version": 3
   },
   "file_extension": ".py",
   "mimetype": "text/x-python",
   "name": "python",
   "nbconvert_exporter": "python",
   "pygments_lexer": "ipython3",
   "version": "3.7.6"
  }
 },
 "nbformat": 4,
 "nbformat_minor": 4
}
