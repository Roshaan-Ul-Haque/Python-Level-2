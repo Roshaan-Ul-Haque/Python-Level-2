{
 "cells": [
  {
   "cell_type": "code",
   "execution_count": 1,
   "metadata": {},
   "outputs": [
    {
     "name": "stdout",
     "output_type": "stream",
     "text": [
      "Ali is a good boy\n",
      "\n",
      "Sometimes, he becomes naughty\n",
      "\n",
      "He is good at studies\n",
      "\n",
      "He likes football\n",
      "\n",
      "\n"
     ]
    }
   ],
   "source": [
    "#Reading a file\n",
    "x = open(r\"Desktop\\file.txt\",\"r\")\n",
    "data = x.read() \n",
    "print(data) \n",
    "x.close()"
   ]
  },
  {
   "cell_type": "code",
   "execution_count": 2,
   "metadata": {},
   "outputs": [
    {
     "name": "stdout",
     "output_type": "stream",
     "text": [
      "Desktop\f",
      "ile.txt\n",
      "Desktop\\file.txt\n"
     ]
    }
   ],
   "source": [
    "#Difference#\n",
    "print(\"Desktop\\file.txt\")\n",
    "#Vs#\n",
    "print(r\"Desktop\\file.txt\")"
   ]
  },
  {
   "cell_type": "code",
   "execution_count": 3,
   "metadata": {},
   "outputs": [
    {
     "name": "stdout",
     "output_type": "stream",
     "text": [
      "Ali is a good boy\n",
      "\n"
     ]
    }
   ],
   "source": [
    "x = open(r\"Desktop\\file.txt\",\"r\") \n",
    "data = x.readline() \n",
    "print(data) \n",
    "x.close()"
   ]
  },
  {
   "cell_type": "code",
   "execution_count": 4,
   "metadata": {},
   "outputs": [
    {
     "name": "stdout",
     "output_type": "stream",
     "text": [
      "['Ali is a good boy\\n', '\\n', 'Sometimes, he becomes naughty\\n', '\\n', 'He is good at studies\\n', '\\n', 'He likes football\\n', '\\n']\n"
     ]
    }
   ],
   "source": [
    "#Reading all the lines#\n",
    "x = open(r\"Desktop\\file.txt\",\"r\") \n",
    "data = x.readlines() \n",
    "print(data) \n",
    "x.close()"
   ]
  },
  {
   "cell_type": "code",
   "execution_count": 5,
   "metadata": {},
   "outputs": [
    {
     "name": "stdout",
     "output_type": "stream",
     "text": [
      "Ali is a good boy\n",
      "\n",
      "\n",
      "\n",
      "Sometimes, he becomes naughty\n",
      "\n",
      "\n",
      "\n",
      "He is good at studies\n",
      "\n",
      "\n",
      "\n",
      "He likes football\n",
      "\n",
      "\n",
      "\n"
     ]
    }
   ],
   "source": [
    "#Reading files piece by piece#\n",
    "x = open(r\"Desktop\\file.txt\",\"r\") \n",
    "for line in x: \n",
    "    print(line) \n",
    "x.close()"
   ]
  },
  {
   "cell_type": "code",
   "execution_count": 6,
   "metadata": {},
   "outputs": [],
   "source": [
    "#Writing Files in Python#\n",
    "x = open(r\"Desktop\\file.txt\",\"w\")\n",
    "x.write(\"This is another line\") \n",
    "x.close()"
   ]
  },
  {
   "cell_type": "code",
   "execution_count": 7,
   "metadata": {},
   "outputs": [
    {
     "name": "stdout",
     "output_type": "stream",
     "text": [
      "This is another line\n"
     ]
    }
   ],
   "source": [
    "#Reading a file and see the data#\n",
    "x = open(r\"Desktop\\file.txt\",\"r\")\n",
    "data = x.read() \n",
    "print(data) \n",
    "x.close()"
   ]
  }
 ],
 "metadata": {
  "kernelspec": {
   "display_name": "Python 3",
   "language": "python",
   "name": "python3"
  },
  "language_info": {
   "codemirror_mode": {
    "name": "ipython",
    "version": 3
   },
   "file_extension": ".py",
   "mimetype": "text/x-python",
   "name": "python",
   "nbconvert_exporter": "python",
   "pygments_lexer": "ipython3",
   "version": "3.7.6"
  }
 },
 "nbformat": 4,
 "nbformat_minor": 4
}
