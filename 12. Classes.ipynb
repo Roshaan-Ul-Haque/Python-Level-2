{
 "cells": [
  {
   "cell_type": "code",
   "execution_count": 1,
   "metadata": {},
   "outputs": [],
   "source": [
    "#Classes\n",
    "#Creating a class in python 2\n",
    "class Vehicle(object): \n",
    "    \"\"\"docstring\"\"\" \n",
    "    def __init__(self): \n",
    "        \"\"\"Constructor\"\"\" \n",
    "        pass"
   ]
  },
  {
   "cell_type": "code",
   "execution_count": 2,
   "metadata": {},
   "outputs": [],
   "source": [
    "#Creating a class in python 3\n",
    "class Vehicle: \n",
    "    \"\"\"docstring\"\"\" \n",
    "    def __init__(self): \n",
    "        \"\"\"Constructor\"\"\" \n",
    "        pass"
   ]
  },
  {
   "cell_type": "code",
   "execution_count": 3,
   "metadata": {},
   "outputs": [],
   "source": [
    "class Vehicle(object): \n",
    "    \"\"\"docstring\"\"\" \n",
    "    def __init__(self, color, doors, tires): \n",
    "        \"\"\"Constructor\"\"\" \n",
    "        self.color=color\n",
    "        self.doors=doors\n",
    "        self.tires=tires\n",
    "    \n",
    "    def brake(self):\n",
    "        \"\"\"\n",
    "        stop the car\n",
    "        \"\"\"\n",
    "        return \"braking\"\n",
    "    \n",
    "    def drive(self):\n",
    "        \"\"\"\n",
    "        Drive the car\n",
    "        \"\"\"\n",
    "        return \"I'm driving!\""
   ]
  }
 ],
 "metadata": {
  "kernelspec": {
   "display_name": "Python 3",
   "language": "python",
   "name": "python3"
  },
  "language_info": {
   "codemirror_mode": {
    "name": "ipython",
    "version": 3
   },
   "file_extension": ".py",
   "mimetype": "text/x-python",
   "name": "python",
   "nbconvert_exporter": "python",
   "pygments_lexer": "ipython3",
   "version": "3.7.6"
  }
 },
 "nbformat": 4,
 "nbformat_minor": 4
}
